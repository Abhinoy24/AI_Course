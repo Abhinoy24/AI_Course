{
 "cells": [
  {
   "cell_type": "code",
   "execution_count": 11,
   "id": "ed58de87",
   "metadata": {},
   "outputs": [
    {
     "name": "stdout",
     "output_type": "stream",
     "text": [
      "B1: 1.4\n",
      "B2: 3.5\n"
     ]
    }
   ],
   "source": [
    "import numpy as np\n",
    "\n",
    "# Given data\n",
    "x_data = np.array([1, 2, 3, 4])\n",
    "y_data = np.array([6, 5, 7, 10])\n",
    "\n",
    "# Calculate the necessary sums\n",
    "n = len(x_data)\n",
    "sum_x = np.sum(x_data)\n",
    "sum_y = np.sum(y_data)\n",
    "sum_xy = np.sum(x_data * y_data)\n",
    "sum_x_squared = np.sum(x_data**2)\n",
    "\n",
    "# Calculate coefficients B1 and B2 using the least squares formulas\n",
    "B1 = (n * sum_xy - sum_x * sum_y) / (n * sum_x_squared - sum_x**2)\n",
    "B2 = (sum_y - B1 * sum_x) / n\n",
    "\n",
    "print(\"B1:\", B1)\n",
    "print(\"B2:\", B2)\n"
   ]
  },
  {
   "cell_type": "code",
   "execution_count": 12,
   "id": "d1f5433a",
   "metadata": {},
   "outputs": [
    {
     "name": "stdout",
     "output_type": "stream",
     "text": [
      "10\n",
      "28\n",
      "77\n",
      "30\n",
      "B1: 1.4\n",
      "B2: 3.5\n"
     ]
    }
   ],
   "source": [
    "import numpy as np\n",
    "\n",
    "# Given data\n",
    "x_data = np.array([1, 2, 3, 4])\n",
    "y_data = np.array([6, 5, 7, 10])\n",
    "\n",
    "# Calculate the necessary sums\n",
    "n = len(x_data)\n",
    "sum_x = np.sum(x_data)\n",
    "sum_y = np.sum(y_data)\n",
    "\n",
    "print(sum_x)\n",
    "print(sum_y)\n",
    "\n",
    "sum_xy = np.sum(x_data * y_data)\n",
    "print(sum_xy)\n",
    "sum_x_squared = np.sum(x_data**2)\n",
    "print(sum_x_squared)\n",
    "# Calculate coefficients B1 and B2 using the least squares formulas\n",
    "B1 = (n * sum_xy - sum_x * sum_y) / (n * sum_x_squared - sum_x**2)\n",
    "B2 = (sum_y - B1 * sum_x) / n\n",
    "\n",
    "# Print the values\n",
    "print(\"B1:\", B1)\n",
    "print(\"B2:\", B2)\n"
   ]
  },
  {
   "cell_type": "code",
   "execution_count": 13,
   "id": "95a8ed44",
   "metadata": {},
   "outputs": [
    {
     "name": "stdout",
     "output_type": "stream",
     "text": [
      "Calculated y values: [ 4.9  8.4 11.9 15.4]\n"
     ]
    }
   ],
   "source": [
    "# Calculated coefficients\n",
    "B1 = 7 / 5\n",
    "B2 = 7 / 2\n",
    "\n",
    "# Substitute the calculated values into the equation\n",
    "x_values = np.array([1, 2, 3, 4])\n",
    "y_values_calculated = B1 + B2 * x_values\n",
    "\n",
    "# Display the calculated y values\n",
    "print(\"Calculated y values:\", y_values_calculated)\n"
   ]
  },
  {
   "cell_type": "code",
   "execution_count": 14,
   "id": "6566d3bf",
   "metadata": {},
   "outputs": [],
   "source": [
    "import numpy as np\n",
    "import matplotlib.pyplot as plt\n",
    "\n",
    "# Given data\n",
    "x_data = np.array([1, 2, 3, 4])\n",
    "y_data = np.array([6, 5, 7, 10])\n",
    "\n",
    "# Calculated coefficients\n",
    "B1 = 7 / 5\n",
    "B2 = 7 / 2"
   ]
  },
  {
   "cell_type": "code",
   "execution_count": 15,
   "id": "4844aeeb",
   "metadata": {},
   "outputs": [
    {
     "data": {
      "image/png": "[encoded data removed]",
      "text/plain": [
       "<Figure size 640x480 with 1 Axes>"
      ]
     },
     "metadata": {},
     "output_type": "display_data"
    }
   ],
   "source": [
    "# Generate points for the best-fit line\n",
    "x_fit = np.linspace(min(x_data), max(x_data), 100)\n",
    "y_fit = B1 + B2 * x_fit\n",
    "# Plot the data points and the best-fit line\n",
    "plt.scatter(x_data, y_data, label='Data Points')\n",
    "plt.plot(x_fit, y_fit, color='red', label='Best-Fit Line: $y = \\\\frac{7}{5} + \\\\frac{7}{2}x$')\n",
    "# Add labels and legend\n",
    "plt.xlabel('x')\n",
    "plt.ylabel('y')\n",
    "plt.legend()\n",
    "# Show the plot\n",
    "plt.show()"
   ]
  },
  {
   "cell_type": "code",
   "execution_count": null,
   "id": "7e891664",
   "metadata": {},
   "outputs": [],
   "source": []
  },
  {
   "cell_type": "code",
   "execution_count": null,
   "id": "3ee538b1",
   "metadata": {},
   "outputs": [],
   "source": []
  }
 ],
 "metadata": {
  "kernelspec": {
   "display_name": "Python 3 (ipykernel)",
   "language": "python",
   "name": "python3"
  },
  "language_info": {
   "codemirror_mode": {
    "name": "ipython",
    "version": 3
   },
   "file_extension": ".py",
   "mimetype": "text/x-python",
   "name": "python",
   "nbconvert_exporter": "python",
   "pygments_lexer": "ipython3",
   "version": "3.9.13"
  }
 },
 "nbformat": 4,
 "nbformat_minor": 5
}
